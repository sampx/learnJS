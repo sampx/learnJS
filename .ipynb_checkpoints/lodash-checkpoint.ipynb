{
 "cells": [
  {
   "cell_type": "markdown",
   "metadata": {},
   "source": [
    "# lodash实用函数示例"
   ]
  },
  {
   "cell_type": "code",
   "execution_count": 1,
   "metadata": {
    "collapsed": true
   },
   "outputs": [],
   "source": [
    "var _ = require('lodash');"
   ]
  },
  {
   "cell_type": "markdown",
   "metadata": {},
   "source": [
    "## result函数\n",
    "从一个对象层次结构中根据key的层次取值"
   ]
  },
  {
   "cell_type": "code",
   "execution_count": null,
   "metadata": {
    "collapsed": true
   },
   "outputs": [],
   "source": [
    "var object = { a: [{ b: { c1: 3, c2: _.constant(4) } }] };"
   ]
  },
  {
   "cell_type": "code",
   "execution_count": null,
   "metadata": {},
   "outputs": [],
   "source": [
    "_.result(object, 'a[0].b.c1');"
   ]
  },
  {
   "cell_type": "code",
   "execution_count": null,
   "metadata": {},
   "outputs": [],
   "source": [
    "_.result(object, 'a[0].b.c2');"
   ]
  },
  {
   "cell_type": "code",
   "execution_count": null,
   "metadata": {},
   "outputs": [],
   "source": [
    "_.result(object, 'a[0].b.c3', 'default');"
   ]
  },
  {
   "cell_type": "code",
   "execution_count": null,
   "metadata": {},
   "outputs": [],
   "source": [
    "_.result(object, 'a[0].b.c3', _.constant('default'));"
   ]
  },
  {
   "cell_type": "markdown",
   "metadata": {},
   "source": [
    "## mapValues函数\n",
    "将一个{out_key:{inner_key:value}}形式的对象,根据回调函数返回对象{out_key:value}  "
   ]
  },
  {
   "cell_type": "code",
   "execution_count": 5,
   "metadata": {
    "collapsed": true
   },
   "outputs": [],
   "source": [
    "var users = {\n",
    "  fred: { sex: 'man', age: 40 },\n",
    "  pebbles: { sex: 'female', age: 1 }\n",
    "};"
   ]
  },
  {
   "cell_type": "code",
   "execution_count": 6,
   "metadata": {},
   "outputs": [
    {
     "name": "stdout",
     "output_type": "stream",
     "text": [
      "value: { sex: 'man', age: 40 }\n",
      "key: fred\n",
      "obj: { fred: { sex: 'man', age: 40 },\n",
      "  pebbles: { sex: 'female', age: 1 } }\n",
      "value: { sex: 'female', age: 1 }\n",
      "key: pebbles\n",
      "obj: { fred: { sex: 'man', age: 40 },\n",
      "  pebbles: { sex: 'female', age: 1 } }\n"
     ]
    },
    {
     "data": {
      "text/plain": [
       "{ fred: 40, pebbles: 1 }"
      ]
     },
     "execution_count": 6,
     "metadata": {},
     "output_type": "execute_result"
    }
   ],
   "source": [
    "_.mapValues(users, function(v, k, o) {\n",
    "    console.log('value:', v);\n",
    "    console.log('key:', k);\n",
    "    console.log('obj:', o);\n",
    "    return v.age;\n",
    "  });"
   ]
  },
  {
   "cell_type": "markdown",
   "metadata": {},
   "source": [
    "或者将{key:value}形式的对象,根据回调函数返回成{key:{value,options}}的形式"
   ]
  },
  {
   "cell_type": "code",
   "execution_count": 7,
   "metadata": {},
   "outputs": [],
   "source": [
    "var images = {\n",
    "  arrow: 'path-to-arrow-icon',\n",
    "  adds: 'path-to-add-icon'\n",
    "};"
   ]
  },
  {
   "cell_type": "code",
   "execution_count": 8,
   "metadata": {
    "collapsed": true
   },
   "outputs": [],
   "source": [
    "var config = {\n",
    "  arrow: {\n",
    "    direction: 'left',\n",
    "    color:'red',\n",
    "  },\n",
    "  adds: {\n",
    "    direction: 'down',\n",
    "    color:'blue',\n",
    "  }\n",
    "};"
   ]
  },
  {
   "cell_type": "code",
   "execution_count": 11,
   "metadata": {},
   "outputs": [
    {
     "data": {
      "text/plain": [
       "{ arrow: { image: 'path-to-arrow-icon', direction: 'left', color: 'red' },\n",
       "  adds: { image: 'path-to-add-icon', direction: 'down', color: 'blue' } }"
      ]
     },
     "execution_count": 11,
     "metadata": {},
     "output_type": "execute_result"
    }
   ],
   "source": [
    "var icons = _.mapValues(images, (image, name) => {\n",
    "  const props = config[name] || {};\n",
    "  return { image, ...props };\n",
    "});\n",
    "icons"
   ]
  },
  {
   "cell_type": "markdown",
   "metadata": {
    "slideshow": {
     "slide_type": "-"
    }
   },
   "source": [
    "便利调用方式,其实是mapValues(users, _.identity('age'))的简写"
   ]
  },
  {
   "cell_type": "code",
   "execution_count": 12,
   "metadata": {},
   "outputs": [
    {
     "data": {
      "text/plain": [
       "{ fred: 40, pebbles: 1 }"
      ]
     },
     "execution_count": 12,
     "metadata": {},
     "output_type": "execute_result"
    }
   ],
   "source": [
    "_.mapValues(users, 'age');"
   ]
  },
  {
   "cell_type": "markdown",
   "metadata": {},
   "source": [
    "## identity函数\n",
    "简单返回传入的第一个参数,在需要将原始值或对象包装成函数时使用."
   ]
  },
  {
   "cell_type": "code",
   "execution_count": null,
   "metadata": {},
   "outputs": [],
   "source": [
    "var object = { 'a': 1 };\n",
    " \n",
    "_.identity(object);"
   ]
  },
  {
   "cell_type": "markdown",
   "metadata": {},
   "source": [
    "## partial函数\n",
    "用来给函数做柯里化"
   ]
  },
  {
   "cell_type": "code",
   "execution_count": null,
   "metadata": {},
   "outputs": [],
   "source": [
    "//原始函数\n",
    "function greet(greeting, name) {\n",
    "  return greeting + ' ' + name;\n",
    "}\n",
    "\n",
    "//做函数柯里化\n",
    "var sayHelloTo = _.partial(greet, 'hello');\n",
    "console.log(sayHelloTo('fred')); // => 'hello fred'\n",
    "\n",
    "//可以用占位符控制需要柯里化的参数位置\n",
    "var greetFred = _.partial(greet, _, 'fred');\n",
    "console.log(greetFred('hi')); // => 'hi fred'\n",
    "\n",
    "function morningTo(name) {  \n",
    "  let greeting = 'Good morning '\n",
    "  return greeting + name;\n",
    "}\n",
    "\n",
    "var wordsToSam = _.partial(morningTo, 'Sam');\n",
    "wordsToSam();"
   ]
  },
  {
   "cell_type": "code",
   "execution_count": null,
   "metadata": {
    "collapsed": true
   },
   "outputs": [],
   "source": []
  }
 ],
 "metadata": {
  "kernelspec": {
   "display_name": "Javascript (Node.js)",
   "language": "javascript",
   "name": "javascript"
  },
  "language_info": {
   "file_extension": ".js",
   "mimetype": "application/javascript",
   "name": "javascript",
   "version": "8.12.0"
  }
 },
 "nbformat": 4,
 "nbformat_minor": 2
}
